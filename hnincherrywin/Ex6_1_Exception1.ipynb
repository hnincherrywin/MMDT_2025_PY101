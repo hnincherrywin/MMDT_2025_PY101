{
  "cells": [
    {
      "cell_type": "markdown",
      "metadata": {
        "id": "EyKGUvA3WPMN"
      },
      "source": [
        "# Exception Handling\n"
      ]
    },
    {
      "cell_type": "markdown",
      "metadata": {
        "id": "E3d3c9AvWPMR"
      },
      "source": [
        "### Q1) Run the following programs and identify the errors.\n",
        "Use exception handling approach to handle the erros.\n"
      ]
    },
    {
      "cell_type": "code",
      "execution_count": 40,
      "metadata": {
        "id": "4u0pijM5WPMU"
      },
      "outputs": [],
      "source": [
        "#Q1.1) Zero division error\n",
        "def myfunction(a, b):\n",
        "    try:\n",
        "        answer = a / b\n",
        "        return answer\n",
        "    except ZeroDivisionError:\n",
        "        return \"Error: Division by zero is not allowed.\"\n"
      ]
    },
    {
      "cell_type": "code",
      "execution_count": 41,
      "metadata": {
        "id": "SCIPO5XVWPMW"
      },
      "outputs": [],
      "source": [
        "#Q1.2 Name Error\n",
        "\n",
        "def myfunction2(c):\n",
        "    try:\n",
        "        answer = a / c\n",
        "        return answer\n",
        "    except NameError:\n",
        "        return \"Error: Variable 'a' is not defined.\"\n"
      ]
    },
    {
      "cell_type": "code",
      "execution_count": 38,
      "metadata": {
        "scrolled": true,
        "colab": {
          "base_uri": "https://localhost:8080/"
        },
        "id": "7JK623rnWPMX",
        "outputId": "7a0cfae6-b965-4962-c81f-431807adc5a3"
      },
      "outputs": [
        {
          "output_type": "stream",
          "name": "stdout",
          "text": [
            "1\n",
            "2\n",
            "3\n",
            "Error: Index 3 is out of range.\n"
          ]
        }
      ],
      "source": [
        "#Q1.3 IndexError\n",
        "a = [1, 2, 3]\n",
        "for k in range(0, 4):\n",
        "    try:\n",
        "        print(a[k])\n",
        "    except IndexError:\n",
        "        print(f\"Error: Index {k} is out of range.\")\n"
      ]
    },
    {
      "cell_type": "code",
      "execution_count": 18,
      "metadata": {
        "colab": {
          "base_uri": "https://localhost:8080/"
        },
        "id": "q4lI3AcmWPMY",
        "outputId": "3524db1a-381e-4902-9ed9-44c48424b9c5"
      },
      "outputs": [
        {
          "output_type": "stream",
          "name": "stdout",
          "text": [
            "Please enter a number to divide a2\n",
            "Success a= 0.5\n"
          ]
        }
      ],
      "source": [
        "#Q1.4 Zero Division Error, Value Error\n",
        "a = 1\n",
        "b = int(input(\"Please enter a number to divide a\"))\n",
        "a = a/b\n",
        "print(\"Success a=\",a)\n"
      ]
    },
    {
      "cell_type": "code",
      "execution_count": 34,
      "metadata": {
        "id": "uKpElQ3pWPMZ"
      },
      "outputs": [],
      "source": [
        "def divide(a, b):\n",
        "    try:\n",
        "        # Convert inputs to float to allow flexible numeric types\n",
        "        a = float(a)\n",
        "        b = float(b)\n",
        "        result = a / b\n",
        "        print('The result of division is', result)\n",
        "    except ZeroDivisionError:\n",
        "        print('Error: Cannot divide by zero.')\n",
        "    except ValueError:\n",
        "        print('Error: Provided inputs could not be converted to numbers.')\n",
        "    except TypeError:\n",
        "        print('Error: Inputs must be numbers, not types like list or None.')\n",
        "    else:\n",
        "        return result\n"
      ]
    },
    {
      "cell_type": "code",
      "execution_count": 42,
      "metadata": {
        "id": "qgZNbVF-WPMa"
      },
      "outputs": [],
      "source": [
        "def read_file(filename):\n",
        "    try:\n",
        "        with open(filename, 'r', encoding='utf-8') as file1:\n",
        "            word_string = file1.read()\n",
        "        print(\"File reading completed successfully\")\n",
        "        return word_string\n",
        "    except FileNotFoundError:\n",
        "        print(\"Error: File does not exist.\")\n",
        "    except IsADirectoryError:\n",
        "        print(\"Error: Expected a file but received a directory.\")\n",
        "    except UnicodeDecodeError:\n",
        "        print(\"Error: Cannot decode file. Try specifying the correct encoding.\")\n",
        "    except IOError:\n",
        "        print(\"Error: An I/O issue occurred while reading the file.\")\n",
        "    finally:\n",
        "        print(\"Attempt to read file has completed.\")\n"
      ]
    }
  ],
  "metadata": {
    "kernelspec": {
      "display_name": "Python 3",
      "language": "python",
      "name": "python3"
    },
    "language_info": {
      "codemirror_mode": {
        "name": "ipython",
        "version": 3
      },
      "file_extension": ".py",
      "mimetype": "text/x-python",
      "name": "python",
      "nbconvert_exporter": "python",
      "pygments_lexer": "ipython3",
      "version": "3.12.1"
    },
    "colab": {
      "provenance": []
    }
  },
  "nbformat": 4,
  "nbformat_minor": 0
}