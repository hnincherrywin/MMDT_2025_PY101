{
  "cells": [
    {
      "cell_type": "markdown",
      "metadata": {
        "id": "view-in-github",
        "colab_type": "text"
      },
      "source": [
        "<a href=\"https://colab.research.google.com/github/hnincherrywin/MMDT_2025_PY101/blob/hnin-cherry-win/hnincherrywin/Ex1_Python.ipynb\" target=\"_parent\"><img src=\"https://colab.research.google.com/assets/colab-badge.svg\" alt=\"Open In Colab\"/></a>"
      ]
    },
    {
      "cell_type": "markdown",
      "metadata": {
        "id": "thgO68_HZ0Aa"
      },
      "source": [
        "# Introduction"
      ]
    },
    {
      "cell_type": "markdown",
      "metadata": {
        "id": "PIh3i0c_Z_yP"
      },
      "source": [
        "This section introduces the Python Programming uisng Colab. Follow the instructions and complete the exercises."
      ]
    },
    {
      "cell_type": "markdown",
      "metadata": {
        "id": "gCw6SfeFZ78l"
      },
      "source": [
        "# Ex 1 : Check Version"
      ]
    },
    {
      "cell_type": "markdown",
      "metadata": {
        "id": "6Vm-27iLabjm"
      },
      "source": [
        "Using the below cell, Import the required library and check the version of the python in your environment."
      ]
    },
    {
      "cell_type": "code",
      "execution_count": 3,
      "metadata": {
        "id": "PJDYHB4AXVdc",
        "outputId": "c6e8c852-c797-4971-fb7f-afdb50290135",
        "colab": {
          "base_uri": "https://localhost:8080/"
        }
      },
      "outputs": [
        {
          "output_type": "execute_result",
          "data": {
            "text/plain": [
              "'3.11.12 (main, Apr  9 2025, 08:55:54) [GCC 11.4.0]'"
            ],
            "application/vnd.google.colaboratory.intrinsic+json": {
              "type": "string"
            }
          },
          "metadata": {},
          "execution_count": 3
        }
      ],
      "source": [
        "import sys\n",
        "sys.version\n"
      ]
    },
    {
      "cell_type": "markdown",
      "metadata": {
        "id": "5qTEiwGlawf5"
      },
      "source": [
        "# Ex2 : Convert Currency."
      ]
    },
    {
      "cell_type": "markdown",
      "metadata": {
        "id": "XH8K1p0ypVCg"
      },
      "source": [
        "Write a program that asks the user for the amount in usd and converts it to British pounds. The exchange rate is from usd to BP is given as 0.82"
      ]
    },
    {
      "cell_type": "code",
      "execution_count": 4,
      "metadata": {
        "colab": {
          "base_uri": "https://localhost:8080/"
        },
        "id": "x9xQXOnRa0MS",
        "outputId": "0e6a16a4-6f5c-4776-98a9-16466af200ab"
      },
      "outputs": [
        {
          "output_type": "stream",
          "name": "stdout",
          "text": [
            "Enter the amount in USD: 5000\n",
            "5000 usd is equivalent to 4100.0 british pound\n"
          ]
        }
      ],
      "source": [
        "usd_amount = input (\"Enter the amount in USD: \")\n",
        "bp_amount = int(usd_amount) *0.82\n",
        "print(\"{} usd is equivalent to {} british pound\".format(usd_amount, bp_amount))"
      ]
    },
    {
      "cell_type": "markdown",
      "metadata": {
        "id": "ePfECwUIpli4"
      },
      "source": [
        "# Ex 3: Temperature Converter"
      ]
    },
    {
      "cell_type": "markdown",
      "metadata": {
        "id": "Y60hUWDsp3pK"
      },
      "source": [
        "Write a program that convert temperature in Feranhite to celsius."
      ]
    },
    {
      "cell_type": "code",
      "execution_count": 5,
      "metadata": {
        "id": "G9PbO6qPoUfn",
        "outputId": "8c0190dd-7abf-4403-ac77-76f0ea00dd1a",
        "colab": {
          "base_uri": "https://localhost:8080/"
        }
      },
      "outputs": [
        {
          "output_type": "stream",
          "name": "stdout",
          "text": [
            "Enter temperatre in F: 66\n",
            "66.0 Feranhite is equal to 18.89 Celsius\n"
          ]
        }
      ],
      "source": [
        "#ask user the temperature in Fahrenheit\n",
        "temp_F = float(input(\"Enter temperatre in F: \"))\n",
        "#convert Fahrenheit to celcius\n",
        "temp_C = (int(temp_F)-32)*5/9\n",
        "#output\n",
        "print(\"{} Feranhite is equal to {:.2f} Celsius\".format(temp_F, temp_C))"
      ]
    },
    {
      "cell_type": "markdown",
      "metadata": {
        "id": "a2kNRO9Vp7Qz"
      },
      "source": [
        "# Ex 4: Daily Maths"
      ]
    },
    {
      "cell_type": "markdown",
      "metadata": {
        "id": "lItKon9qqEUn"
      },
      "source": [
        "You are working in a retail shop. Write a program that computes the total cost for a customer that bought 3 differnt types of fruits : apple, orange, mango. Ask the user to enter the quantity and price for each type."
      ]
    },
    {
      "cell_type": "code",
      "execution_count": 2,
      "metadata": {
        "id": "mIQFjH6wqDma",
        "outputId": "c725e222-dde2-4008-e31e-fd13d29eb5fb",
        "colab": {
          "base_uri": "https://localhost:8080/"
        }
      },
      "outputs": [
        {
          "output_type": "stream",
          "name": "stdout",
          "text": [
            "Welcome to Farm Fresh!!!\n",
            "\n",
            "What would you like to buy today?\n",
            "\n",
            "We have multiple options for fresh fruits.\n",
            "\n",
            "Here are the fruits we have:  {'mango', 'grape', 'orange', 'banana', 'apple'}\n",
            "Enter number of apples : 3\n",
            "Price per apple: 1000\n",
            "Enter number of oranges : 4\n",
            "Price per orange: 1500\n",
            "Enter number of mangoes : 6\n",
            "Price per mango: 2000\n",
            "Total cost is :  21000\n",
            "Thank you for buying with us. Have a great day!\n"
          ]
        }
      ],
      "source": [
        "print(\"Welcome to Farm Fresh!!!\\n\")\n",
        "print(\"What would you like to buy today?\\n\")\n",
        "print(\"We have multiple options for fresh fruits.\\n\")\n",
        "fruit_options = {\"apple\",\"banana\",\"orange\",\"grape\",\"mango\"\n",
        "}\n",
        "print(\"Here are the fruits we have: \", fruit_options)\n",
        "\n",
        "apple_qty = input(\"Enter number of apples : \")\n",
        "apple_price = input (\"Price per apple: \")\n",
        "\n",
        "orange_qty = input(\"Enter number of oranges : \")\n",
        "orange_price = input (\"Price per orange: \")\n",
        "\n",
        "mango_qty = input(\"Enter number of mangoes : \")\n",
        "mango_price = input (\"Price per mango: \")\n",
        "\n",
        "total_cost = int(apple_qty)*int(apple_price) + int(orange_qty)*int(orange_price) + int(mango_qty)*int(mango_price)\n",
        "print(\"Total cost is : \", total_cost)\n",
        "print(\"Thank you for buying with us. Have a great day!\")"
      ]
    },
    {
      "cell_type": "markdown",
      "metadata": {
        "id": "31fXlmEQqgvW"
      },
      "source": [
        "# Ex 5 : Greeting"
      ]
    },
    {
      "cell_type": "markdown",
      "metadata": {
        "id": "zvnmj8MGrJIw"
      },
      "source": [
        "Write a program to greet the customer who provides the user name. Your program should ask the name of the customer and print \"Hello + customer name\""
      ]
    },
    {
      "cell_type": "code",
      "execution_count": 3,
      "metadata": {
        "id": "Z6ynxZMarIXh",
        "outputId": "d82f4fe5-309a-45ef-85d7-121a1d556134",
        "colab": {
          "base_uri": "https://localhost:8080/"
        }
      },
      "outputs": [
        {
          "output_type": "stream",
          "name": "stdout",
          "text": [
            "<3<3<3<3<3<3<3<3<3\n",
            " Hi user, Enter your name: Hnin\n",
            "Hello Hnin Welcome to Learn with Dr Myo Thida.\n"
          ]
        }
      ],
      "source": [
        "print(\"<3<3<3<3<3<3<3<3<3\")\n",
        "g=str(\"Welcome to Learn with Dr Myo Thida.\")\n",
        "\n",
        "name = input (\" Hi user, Enter your name: \")\n",
        "print(\"Hello \" + name, g )"
      ]
    },
    {
      "cell_type": "markdown",
      "metadata": {
        "id": "qGzfaRUGWz-A"
      },
      "source": [
        "# Ex 6: Random Number\n",
        "Write a program that generates a random number, x, between 1 and 50, a random number y between 2 and 5, and computes x^y."
      ]
    },
    {
      "cell_type": "code",
      "execution_count": 4,
      "metadata": {
        "id": "MU61OEkdWz-B",
        "outputId": "e5a8e1fe-f32f-4d67-d3e0-56cecb80b95b",
        "colab": {
          "base_uri": "https://localhost:8080/"
        }
      },
      "outputs": [
        {
          "output_type": "stream",
          "name": "stdout",
          "text": [
            "A random number between 1 and 50:  44\n",
            "A random number between 2 and 5:  4\n",
            "176\n"
          ]
        }
      ],
      "source": [
        "from random import randint\n",
        "x = randint(1,50)\n",
        "print(\"A random number between 1 and 50: \", x)\n",
        "from random import randint\n",
        "y = randint(2,5)\n",
        "print('A random number between 2 and 5: ', y)\n",
        "print(x*y)"
      ]
    },
    {
      "cell_type": "markdown",
      "metadata": {
        "id": "C9khU_i6Wz-D"
      },
      "source": [
        "# Ex 7: Greet many times.\n",
        "Write a program that generates a random number between 1 and 10 and prints your name that many times."
      ]
    },
    {
      "cell_type": "code",
      "execution_count": 5,
      "metadata": {
        "id": "0juNXb4hWz-D",
        "outputId": "be8580a2-b346-4b5e-cce1-d4e1c9eaa93a",
        "colab": {
          "base_uri": "https://localhost:8080/"
        }
      },
      "outputs": [
        {
          "output_type": "stream",
          "name": "stdout",
          "text": [
            "A random number between 1 and 10:  6\n",
            "\n",
            " I'm Hnin Cherry Win.\n",
            "\n",
            " I'm Hnin Cherry Win.\n",
            "\n",
            " I'm Hnin Cherry Win.\n",
            "\n"
          ]
        }
      ],
      "source": [
        "from random import randint\n",
        "a = randint(1,10)\n",
        "print(\"A random number between 1 and 10: \", a)\n",
        "string = \"\\n I'm Hnin Cherry Win.\\n\"\n",
        "print(string * 3)\n"
      ]
    },
    {
      "cell_type": "markdown",
      "metadata": {
        "id": "uUXeXNCpWz-E"
      },
      "source": [
        "# Ex 8: Computing.\n",
        "Write a program that asks the user to enter two numbers, x and y, and computes |x-y|/(x+y)."
      ]
    },
    {
      "cell_type": "code",
      "execution_count": 6,
      "metadata": {
        "id": "9uv3mmO9Wz-E",
        "outputId": "8dcf80d8-5ea4-45f1-95f4-99847503eb12",
        "colab": {
          "base_uri": "https://localhost:8080/"
        }
      },
      "outputs": [
        {
          "output_type": "stream",
          "name": "stdout",
          "text": [
            "Enter number for x: 15\n",
            "Enter number for y: 5\n",
            "The output result is  0.5\n"
          ]
        }
      ],
      "source": [
        "x = float(input(\"Enter number for x: \"))\n",
        "y = float(input(\"Enter number for y: \"))\n",
        "output_result = (x-y)/(x+y)\n",
        "print(\"The output result is \",output_result)"
      ]
    },
    {
      "cell_type": "markdown",
      "metadata": {
        "id": "QIgANgmgWz-F"
      },
      "source": [
        "# Ex 9: Computing\n",
        "\n",
        "Write a program that asks the user for a number of seconds and prints out how many minutes and seconds that is. For instance, 200 seconds is 3 minutes and 20 seconds."
      ]
    },
    {
      "cell_type": "code",
      "execution_count": 7,
      "metadata": {
        "id": "9AIXGaTDWz-d",
        "outputId": "62666c6d-01d0-4c9f-87d3-d350a80770a6",
        "colab": {
          "base_uri": "https://localhost:8080/"
        }
      },
      "outputs": [
        {
          "output_type": "stream",
          "name": "stdout",
          "text": [
            "Hi! User Welcome to Time Converter\n",
            "Enter the number of seconds: 24052\n",
            "24052 seconds is 400 minutes and 52 seconds.\n"
          ]
        }
      ],
      "source": [
        "print(\"Hi! User Welcome to Time Converter\")\n",
        "total_seconds = int(input(\"Enter the number of seconds: \"))\n",
        "minutes = total_seconds // 60\n",
        "seconds = total_seconds % 60\n",
        "print(f\"{total_seconds} seconds is {minutes} minutes and {seconds} seconds.\")"
      ]
    },
    {
      "cell_type": "markdown",
      "metadata": {
        "id": "B7ljUnjnWz-e"
      },
      "source": [
        "# Ex 10: Using Math Module\n",
        "\n",
        "Write a program that asks the user for a number and then prints out the sine, cosine, and tangent of that number."
      ]
    },
    {
      "cell_type": "code",
      "execution_count": 8,
      "metadata": {
        "id": "YpicmfJ2Wz-f",
        "outputId": "1a13cff5-dea3-49cf-bb65-a88f5a8ca37d",
        "colab": {
          "base_uri": "https://localhost:8080/"
        }
      },
      "outputs": [
        {
          "output_type": "stream",
          "name": "stdout",
          "text": [
            "Enter a number:15\n",
            "Sine of 15.0: 0.6502878401571168\n",
            "Cosine of 15.0: -0.7596879128588213\n"
          ]
        }
      ],
      "source": [
        "import math\n",
        "num = float(input(\"Enter a number:\"))\n",
        "sine = math.sin(num)\n",
        "cosine = math.cos(num)\n",
        "print(f\"Sine of {num}: {sine}\")\n",
        "print(f\"Cosine of {num}: {cosine}\")"
      ]
    }
  ],
  "metadata": {
    "colab": {
      "name": "Ex1_Python.ipynb",
      "provenance": [],
      "include_colab_link": true
    },
    "kernelspec": {
      "display_name": "Python 3",
      "language": "python",
      "name": "python3"
    },
    "language_info": {
      "codemirror_mode": {
        "name": "ipython",
        "version": 3
      },
      "file_extension": ".py",
      "mimetype": "text/x-python",
      "name": "python",
      "nbconvert_exporter": "python",
      "pygments_lexer": "ipython3",
      "version": "3.12.1"
    }
  },
  "nbformat": 4,
  "nbformat_minor": 0
}