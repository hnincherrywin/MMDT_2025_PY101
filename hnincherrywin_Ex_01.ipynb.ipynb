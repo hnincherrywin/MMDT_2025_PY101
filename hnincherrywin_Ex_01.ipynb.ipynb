{
  "nbformat": 4,
  "nbformat_minor": 0,
  "metadata": {
    "colab": {
      "provenance": []
    },
    "kernelspec": {
      "name": "python3",
      "display_name": "Python 3"
    },
    "language_info": {
      "name": "python"
    }
  },
  "cells": [
    {
      "cell_type": "code",
      "execution_count": 4,
      "metadata": {
        "colab": {
          "base_uri": "https://localhost:8080/",
          "height": 35
        },
        "id": "lef1i_V5GoxF",
        "outputId": "5da1f69e-533c-486f-f963-f15d18a24b84"
      },
      "outputs": [
        {
          "output_type": "execute_result",
          "data": {
            "text/plain": [
              "'3.11.12 (main, Apr  9 2025, 08:55:54) [GCC 11.4.0]'"
            ],
            "application/vnd.google.colaboratory.intrinsic+json": {
              "type": "string"
            }
          },
          "metadata": {},
          "execution_count": 4
        }
      ],
      "source": [
        "import sys\n",
        "sys.version\n"
      ]
    },
    {
      "cell_type": "code",
      "source": [
        "usd_amount = input (\"Enter the amount in USD: \")\n",
        "bp_amount = int(usd_amount) *0.82\n",
        "\n",
        "print(\"{} usd is equivalent to {} british pound\".format(usd_amount, bp_amount))"
      ],
      "metadata": {
        "colab": {
          "base_uri": "https://localhost:8080/"
        },
        "id": "5crVxQjhK-j_",
        "outputId": "f2c5e214-9f88-427a-9133-14af7cfcc482"
      },
      "execution_count": 5,
      "outputs": [
        {
          "output_type": "stream",
          "name": "stdout",
          "text": [
            "Enter the amount in USD: 5000\n",
            "5000 usd is equivalent to 4100.0 british pound\n"
          ]
        }
      ]
    },
    {
      "cell_type": "code",
      "source": [
        "temp_F = float(input(\"Enter temperatre in F: \"))\n",
        "temp_C = (int(temp_F)-32)*5/9\n",
        "print(\"{} Feranhite is equal to {:.2f} Celsius\".format(temp_F, temp_C))"
      ],
      "metadata": {
        "colab": {
          "base_uri": "https://localhost:8080/"
        },
        "id": "44zw2MdzLBxQ",
        "outputId": "55079547-b385-4a00-aed6-5e9f7fe98764"
      },
      "execution_count": 6,
      "outputs": [
        {
          "output_type": "stream",
          "name": "stdout",
          "text": [
            "Enter temperatre in F: 60\n",
            "60.0 Feranhite is equal to 15.56 Celsius\n"
          ]
        }
      ]
    },
    {
      "cell_type": "code",
      "source": [
        "print(\"\\tWelcome to Farm Fresh!!!\\n\")\n",
        "print(\"\\tWhat would you like to buy today?\\n\")\n",
        "print(\"\\tWe have multiple options for fresh fruits.\\n\")\n",
        "fruit_options = {\"apple\",\"banana\",\"orange\",\"grape\",\"mango\"}\n",
        "print(\"Here are the fruits we have: \", fruit_options)\n",
        "\n",
        "apple_qty = input(\"Enter number of apples : \")\n",
        "apple_price = input (\"Price per apple: \")\n",
        "\n",
        "orange_qty = input(\"Enter number of oranges : \")\n",
        "orange_price = input (\"Price per orange: \")\n",
        "\n",
        "mango_qty = input(\"Enter number of mangoes : \")\n",
        "mango_price = input (\"Price per mango: \")\n",
        "\n",
        "total_cost = int(apple_qty)*int(apple_price) + int(orange_qty)*int(orange_price) + int(mango_qty)*int(mango_price)\n",
        "print(\"Total cost is : \", total_cost)\n",
        "\n",
        "print(\"\\tThank you for buying with us.Have a great day!\")"
      ],
      "metadata": {
        "colab": {
          "base_uri": "https://localhost:8080/"
        },
        "id": "3k8CEg4hLD7q",
        "outputId": "ca00f8dd-b126-46f5-ecd1-60c21680bd44"
      },
      "execution_count": 8,
      "outputs": [
        {
          "output_type": "stream",
          "name": "stdout",
          "text": [
            "\tWelcome to Farm Fresh!!!\n",
            "\n",
            "\tWhat would you like to buy today?\n",
            "\n",
            "\tWe have multiple options for fresh fruits.\n",
            "\n",
            "Here are the fruits we have:  {'apple', 'mango', 'banana', 'grape', 'orange'}\n",
            "Enter number of apples : 3\n",
            "Price per apple: 200\n",
            "Enter number of oranges : 4\n",
            "Price per orange: 500\n",
            "Enter number of mangoes : 5\n",
            "Price per mango: 600\n",
            "Total cost is :  5600\n",
            "\tThank you for buying with us.Have a great day!\n"
          ]
        }
      ]
    },
    {
      "cell_type": "code",
      "source": [
        "print(\"<3<3<3<3<3<3<3<3<3\")\n",
        "g=str(\"Welcome to Learn with Dr Myo Thida Python Course!\")\n",
        "\n",
        "name = str(input (\"Enter your name: \"))\n",
        "print(\"Hello \" + name, g )"
      ],
      "metadata": {
        "colab": {
          "base_uri": "https://localhost:8080/"
        },
        "id": "-UMGEz3dLEoC",
        "outputId": "d20d75e3-3adb-48d7-e790-45f22c70d65e"
      },
      "execution_count": 9,
      "outputs": [
        {
          "output_type": "stream",
          "name": "stdout",
          "text": [
            "<3<3<3<3<3<3<3<3<3\n",
            "Enter your name: Hnin Cherry Win\n",
            "Hello Hnin Cherry Win Welcome to Learn with Dr Myo Thida Python Course!\n"
          ]
        }
      ]
    },
    {
      "cell_type": "code",
      "source": [
        "from random import randint\n",
        "x = randint(1,50)\n",
        "print(\"A random number between 1 and 50: \", x)\n",
        "from random import randint\n",
        "y = randint(2,5)\n",
        "print('A random number between 2 and 5: ', y)\n",
        "print(x*y)"
      ],
      "metadata": {
        "colab": {
          "base_uri": "https://localhost:8080/"
        },
        "id": "7Jgxt8DaLH9_",
        "outputId": "1000c54d-ce4d-46d0-b06e-7bd9df362dba"
      },
      "execution_count": 10,
      "outputs": [
        {
          "output_type": "stream",
          "name": "stdout",
          "text": [
            "A random number between 1 and 50:  44\n",
            "A random number between 2 and 5:  4\n",
            "176\n"
          ]
        }
      ]
    },
    {
      "cell_type": "code",
      "source": [
        "from random import randint\n",
        "a = randint(1,10)\n",
        "print(\"A random number between 1 and 10: \", a)\n",
        "string = \"\\n Hi I'm Hnin Cherry Win. Nice to meet you.\\n\"\n",
        "print(string * 3)"
      ],
      "metadata": {
        "colab": {
          "base_uri": "https://localhost:8080/"
        },
        "id": "NtWiMYYCLKDW",
        "outputId": "026cdc2b-40cd-4149-a04e-dc52c5409b10"
      },
      "execution_count": 11,
      "outputs": [
        {
          "output_type": "stream",
          "name": "stdout",
          "text": [
            "A random number between 1 and 10:  10\n",
            "\n",
            " Hi I'm Hnin Cherry Win. Nice to meet you.\n",
            "\n",
            " Hi I'm Hnin Cherry Win. Nice to meet you.\n",
            "\n",
            " Hi I'm Hnin Cherry Win. Nice to meet you.\n",
            "\n"
          ]
        }
      ]
    },
    {
      "cell_type": "code",
      "source": [
        "x = float(input(\"Enter number for x: \"))\n",
        "y = float(input(\"Enter number for y: \"))\n",
        "output_result = (x-y)/(x+y)\n",
        "print(\"The output result is \",output_result)"
      ],
      "metadata": {
        "colab": {
          "base_uri": "https://localhost:8080/"
        },
        "id": "teS_uClmLL3k",
        "outputId": "d3e4460c-a03d-4ebd-aa15-a5e06cf213df"
      },
      "execution_count": 12,
      "outputs": [
        {
          "output_type": "stream",
          "name": "stdout",
          "text": [
            "Enter number for x: 15\n",
            "Enter number for y: 4\n",
            "The output result is  0.5789473684210527\n"
          ]
        }
      ]
    },
    {
      "cell_type": "code",
      "source": [
        "print(\"Hi! User Welcome to Time Converter\")\n",
        "total_seconds = int(input(\"Enter the number of seconds: \"))\n",
        "minutes = total_seconds // 60\n",
        "seconds = total_seconds % 60\n",
        "print(f\"{total_seconds} seconds is {minutes} minutes and {seconds} seconds.\")"
      ],
      "metadata": {
        "colab": {
          "base_uri": "https://localhost:8080/"
        },
        "id": "xBFwEGn_LMWS",
        "outputId": "35400a5e-0fea-40de-8c04-9a6a1cc7d2c6"
      },
      "execution_count": 13,
      "outputs": [
        {
          "output_type": "stream",
          "name": "stdout",
          "text": [
            "Hi! User Welcome to Time Converter\n",
            "Enter the number of seconds: 6000\n",
            "6000 seconds is 100 minutes and 0 seconds.\n"
          ]
        }
      ]
    },
    {
      "cell_type": "code",
      "source": [
        "import math\n",
        "num = float(input(\"Enter a number:\"))\n",
        "sine = math.sin(num)\n",
        "cosine = math.cos(num)\n",
        "print(f\"Sine of {num}: {sine}\")\n",
        "print(f\"Cosine of {num}: {cosine}\")"
      ],
      "metadata": {
        "colab": {
          "base_uri": "https://localhost:8080/"
        },
        "id": "sEZcXRgZLPHb",
        "outputId": "b31ea4f3-dfd4-4dca-a6dc-46218df5089e"
      },
      "execution_count": 14,
      "outputs": [
        {
          "output_type": "stream",
          "name": "stdout",
          "text": [
            "Enter a number:56\n",
            "Sine of 56.0: -0.5215510020869119\n",
            "Cosine of 56.0: 0.8532201077225842\n"
          ]
        }
      ]
    }
  ]
}